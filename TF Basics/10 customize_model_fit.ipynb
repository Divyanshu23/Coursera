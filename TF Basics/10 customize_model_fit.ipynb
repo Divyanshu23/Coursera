{
 "cells": [
  {
   "cell_type": "code",
   "execution_count": 57,
   "metadata": {},
   "outputs": [
    {
     "name": "stdout",
     "output_type": "stream",
     "text": [
      "Downloading data from https://storage.googleapis.com/tensorflow/tf-keras-datasets/mnist.npz\n",
      "11493376/11490434 [==============================] - 2s 0us/step\n"
     ]
    }
   ],
   "source": [
    "import os\n",
    "os.environ[\"TF_CPP_MIN_LOG_LEVEL\"] = \"2\"\n",
    "import tensorflow as tf\n",
    "physical_devices = tf.config.list_physical_devices(\"GPU\")\n",
    "tf.config.experimental.set_memory_growth(physical_devices[0], True)\n",
    "\n",
    "from tensorflow import keras\n",
    "from tensorflow.keras import layers\n",
    "from tensorflow.keras.datasets import mnist\n",
    "\n",
    "(x_train, y_train), (x_test, y_test) = mnist.load_data()\n",
    "x_train = x_train.reshape(-1, 28, 28, 1).astype(\"float32\") / 255.0\n",
    "x_test = x_test.reshape(-1, 28, 28, 1).astype(\"float32\") / 255.0"
   ]
  },
  {
   "cell_type": "code",
   "execution_count": 64,
   "metadata": {},
   "outputs": [],
   "source": [
    "model = keras.Sequential(\n",
    "    [\n",
    "        layers.Input(shape=(28, 28, 1)),\n",
    "        layers.Conv2D(64, (3, 3), padding=\"same\"),\n",
    "        layers.ReLU(),\n",
    "        layers.Conv2D(128, (3, 3), padding=\"same\"),\n",
    "        layers.ReLU(),\n",
    "        layers.Flatten(),\n",
    "        layers.Dense(10),\n",
    "    ],\n",
    "    name=\"model\",\n",
    ")"
   ]
  },
  {
   "cell_type": "code",
   "execution_count": 59,
   "metadata": {},
   "outputs": [],
   "source": [
    "class CustomFit(keras.Model):\n",
    "  def __init__(self, model):\n",
    "    super(CustomFit, self).__init__()\n",
    "    self.model = model\n",
    "\n",
    "  def compile(self, optimizer, loss):\n",
    "    super(CustomFit, self).compile()\n",
    "    self.optimizer = optimizer\n",
    "    self.loss = loss\n",
    "\n",
    "  def train_step(self, data):\n",
    "    (x,y) = data    \n",
    "    with tf.GradientTape() as tape:\n",
    "      # Caclulate predictions\n",
    "      y_pred = self.model(x, training=True)\n",
    "      \n",
    "      # loss\n",
    "      loss = self.loss(y, y_pred)\n",
    "\n",
    "    # Gradients\n",
    "    training_vars = self.trainable_variables\n",
    "    gradients = tape.gradient(loss, training_vars)\n",
    "\n",
    "    # Step with optimizer\n",
    "    self.optimizer.apply_gradients(zip(gradients, training_vars))\n",
    "    acc_metric.update_state(y, y_pred)\n",
    "    # self.compiled_metrics.update_state(y, y_pred)\n",
    "    return {\"loss\":loss, \"accuracy\":acc_metric.result()}\n",
    "\n",
    "  def test_step(self, data):\n",
    "    x,y = data\n",
    "    y_pred = self.model(x, training=False)\n",
    "    loss = self.loss(y,y_pred)\n",
    "    acc_metric.update_state(y, y_pred)\n",
    "    return {\"loss\": loss, \"accuracy\": acc_metric.result()}"
   ]
  },
  {
   "cell_type": "code",
   "execution_count": 62,
   "metadata": {},
   "outputs": [],
   "source": [
    "acc_metric = keras.metrics.SparseCategoricalAccuracy(name=\"accuracy\")\n",
    "\n",
    "training = CustomFit(model)\n",
    "training.compile(\n",
    "    optimizer=keras.optimizers.Adam(learning_rate=3e-4),\n",
    "    loss=keras.losses.SparseCategoricalCrossentropy(from_logits=True),\n",
    ")"
   ]
  },
  {
   "cell_type": "code",
   "execution_count": 63,
   "metadata": {},
   "outputs": [
    {
     "name": "stdout",
     "output_type": "stream",
     "text": [
      "Epoch 1/2\n",
      "938/938 [==============================] - 26s 20ms/step - loss: 0.1742 - accuracy: 0.8900\n",
      "Epoch 2/2\n",
      "938/938 [==============================] - 14s 14ms/step - loss: 0.0553 - accuracy: 0.9589\n",
      "157/157 [==============================] - 1s 6ms/step - loss: 0.0469 - accuracy: 0.9665\n"
     ]
    },
    {
     "data": {
      "text/plain": [
       "[0.9673230648040771, 0.000384011073037982]"
      ]
     },
     "execution_count": 63,
     "metadata": {},
     "output_type": "execute_result"
    }
   ],
   "source": [
    "training.fit(x_train, y_train, batch_size=64, epochs=2)\n",
    "training.evaluate(x_test, y_test, batch_size=64)"
   ]
  }
 ],
 "metadata": {
  "interpreter": {
   "hash": "31f2aee4e71d21fbe5cf8b01ff0e069b9275f58929596ceb00d14d90e3e16cd6"
  },
  "kernelspec": {
   "display_name": "Python 3.6.9 64-bit",
   "name": "python3"
  },
  "language_info": {
   "codemirror_mode": {
    "name": "ipython",
    "version": 3
   },
   "file_extension": ".py",
   "mimetype": "text/x-python",
   "name": "python",
   "nbconvert_exporter": "python",
   "pygments_lexer": "ipython3",
   "version": "3.9.7"
  },
  "orig_nbformat": 4
 },
 "nbformat": 4,
 "nbformat_minor": 2
}
