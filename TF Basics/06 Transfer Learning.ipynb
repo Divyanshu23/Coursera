{
 "cells": [
  {
   "cell_type": "code",
   "execution_count": 6,
   "metadata": {},
   "outputs": [],
   "source": [
    "import os\n",
    "os.environ[\"TF_CPP_MIN_LOG_LEVEL\"] = \"2\"\n",
    "import tensorflow as tf\n",
    "physical_devices = tf.config.list_physical_devices(\"GPU\")\n",
    "tf.config.experimental.set_memory_growth(physical_devices[0], True)\n",
    "\n",
    "from tensorflow import keras\n",
    "from tensorflow.keras import layers\n",
    "from tensorflow.keras.datasets import mnist\n",
    "# import tensorflow_hub as hub"
   ]
  },
  {
   "cell_type": "code",
   "execution_count": null,
   "metadata": {},
   "outputs": [],
   "source": [
    "# ================================================ #\n",
    "#                  Pretrained-Model                #\n",
    "# ================================================ #\n",
    "\n",
    "(x_train, y_train), (x_test, y_test) = mnist.load_data()\n",
    "x_train = x_train.reshape(-1, 28, 28, 1).astype(\"float32\") / 255.0\n",
    "x_test = x_test.reshape(-1, 28, 28, 1).astype(\"float32\") / 255.0\n",
    "\n",
    "model = keras.models.load_model(\"pretrained/\")    # Ensure that you have a saved model in directoy named pre-trained\n",
    "model.trainable = False             # Freeze the layers\n",
    "\n",
    "base_input = model.layers[0].input\n",
    "base_output = model.layers[-2].output   # Getting uptill the second last layer i.e. removing the final layer\n",
    "final_output = layers.Desne(20)(base_output)\n",
    "\n",
    "model_new = keras.Model(inputs = base_input, outputs = final_output)\n",
    "\n",
    "model_new.compile(\n",
    "    optimizer=keras.optimizers.Adam(),\n",
    "    loss=keras.losses.SparseCategoricalCrossentropy(from_logits=True),\n",
    "    metrics=[\"accuracy\"],\n",
    ")\n",
    "\n",
    "model_new.fit(x_train, y_train, batch_size=32, epochs=3, verbose=2)"
   ]
  },
  {
   "cell_type": "code",
   "execution_count": 7,
   "metadata": {},
   "outputs": [
    {
     "name": "stdout",
     "output_type": "stream",
     "text": [
      "Downloading data from https://storage.googleapis.com/tensorflow/keras-applications/inception_v3/inception_v3_weights_tf_dim_ordering_tf_kernels.h5\n",
      "96116736/96112376 [==============================] - 22s 0us/step\n",
      "Epoch 1/15\n",
      "1/1 - 31s - loss: 1.2145 - accuracy: 0.3333\n",
      "Epoch 2/15\n",
      "1/1 - 0s - loss: 1.0500 - accuracy: 0.6667\n",
      "Epoch 3/15\n",
      "1/1 - 0s - loss: 0.9781 - accuracy: 0.6667\n",
      "Epoch 4/15\n",
      "1/1 - 0s - loss: 0.9346 - accuracy: 0.3333\n",
      "Epoch 5/15\n",
      "1/1 - 0s - loss: 0.8714 - accuracy: 0.3333\n",
      "Epoch 6/15\n",
      "1/1 - 0s - loss: 0.7949 - accuracy: 1.0000\n",
      "Epoch 7/15\n",
      "1/1 - 0s - loss: 0.7221 - accuracy: 1.0000\n",
      "Epoch 8/15\n",
      "1/1 - 0s - loss: 0.6605 - accuracy: 1.0000\n",
      "Epoch 9/15\n",
      "1/1 - 0s - loss: 0.6092 - accuracy: 1.0000\n",
      "Epoch 10/15\n",
      "1/1 - 0s - loss: 0.5641 - accuracy: 1.0000\n",
      "Epoch 11/15\n",
      "1/1 - 0s - loss: 0.5209 - accuracy: 1.0000\n",
      "Epoch 12/15\n",
      "1/1 - 0s - loss: 0.4775 - accuracy: 1.0000\n",
      "Epoch 13/15\n",
      "1/1 - 0s - loss: 0.4344 - accuracy: 1.0000\n",
      "Epoch 14/15\n",
      "1/1 - 0s - loss: 0.3941 - accuracy: 1.0000\n",
      "Epoch 15/15\n",
      "1/1 - 0s - loss: 0.3583 - accuracy: 1.0000\n"
     ]
    },
    {
     "data": {
      "text/plain": [
       "<tensorflow.python.keras.callbacks.History at 0x7f4cda1f4490>"
      ]
     },
     "execution_count": 7,
     "metadata": {},
     "output_type": "execute_result"
    }
   ],
   "source": [
    "# =================================================== #\n",
    "#                Pretrained Keras Model               #\n",
    "# =================================================== #\n",
    "\n",
    "# Random data for demonstration (3 examples w. 3 classes)\n",
    "x = tf.random.normal(shape=(3, 299, 299, 3))\n",
    "y = tf.constant([0, 1, 2])\n",
    "\n",
    "model = keras.applications.InceptionV3(include_top=True)          # Loading InceptionV3 from Keras\n",
    "model.trainable = False \n",
    "\n",
    "base_inputs = model.layers[0].input\n",
    "base_outputs = model.layers[-2].output\n",
    "classifier = layers.Dense(3)(base_outputs)\n",
    "new_model = keras.Model(inputs=base_inputs, outputs=classifier)\n",
    "new_model.compile(\n",
    "    optimizer=keras.optimizers.Adam(),\n",
    "    loss=keras.losses.SparseCategoricalCrossentropy(from_logits=True),\n",
    "    metrics=[\"accuracy\"],\n",
    ")\n",
    "\n",
    "new_model.fit(x, y, epochs=15, verbose=2)"
   ]
  },
  {
   "cell_type": "code",
   "execution_count": null,
   "metadata": {},
   "outputs": [],
   "source": [
    "# ================================================= #\n",
    "#                Pretrained Hub Model               #\n",
    "# ================================================= #\n",
    "\n",
    "# Random data for demonstration (3 examples w. 3 classes)\n",
    "x = tf.random.normal(shape=(3, 299, 299, 3))\n",
    "y = tf.constant([0, 1, 2])\n",
    "\n",
    "url = \"https://tfhub.dev/google/imagenet/inception_v3/feature_vector/4\"\n",
    "\n",
    "base_model = hub.KerasLayer(url, input_shape=(299, 299, 3))\n",
    "base_model.trainable = False\n",
    "\n",
    "model_new = keras.Sequential(\n",
    "    [\n",
    "        base_model,\n",
    "        layers.Dense(128, activation=\"relu\"),\n",
    "        layers.Dense(64, activation=\"relu\"),\n",
    "        layers.Dense(10),\n",
    "    ]\n",
    ")\n",
    "\n",
    "model_new.compile(\n",
    "    optimizer=keras.optimizers.Adam(),\n",
    "    loss=keras.losses.SparseCategoricalCrossentropy(from_logits=True),\n",
    "    metrics=[\"accuracy\"],\n",
    ")\n",
    "\n",
    "model_new.fit(x, y, batch_size=32, epochs=15, verbose=2)"
   ]
  }
 ],
 "metadata": {
  "interpreter": {
   "hash": "31f2aee4e71d21fbe5cf8b01ff0e069b9275f58929596ceb00d14d90e3e16cd6"
  },
  "kernelspec": {
   "display_name": "Python 3.6.9 64-bit",
   "name": "python3"
  },
  "language_info": {
   "codemirror_mode": {
    "name": "ipython",
    "version": 3
   },
   "file_extension": ".py",
   "mimetype": "text/x-python",
   "name": "python",
   "nbconvert_exporter": "python",
   "pygments_lexer": "ipython3",
   "version": "3.9.7"
  },
  "orig_nbformat": 4
 },
 "nbformat": 4,
 "nbformat_minor": 2
}
