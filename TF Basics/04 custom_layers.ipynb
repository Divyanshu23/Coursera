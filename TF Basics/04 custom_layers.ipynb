{
 "cells": [
  {
   "cell_type": "code",
   "execution_count": 1,
   "metadata": {},
   "outputs": [],
   "source": [
    "import os\n",
    "os.environ[\"TF_CPP_MIN_LOG_LEVEL\"] = \"2\"\n",
    "import tensorflow as tf\n",
    "physical_devices = tf.config.list_physical_devices(\"GPU\")\n",
    "tf.config.experimental.set_memory_growth(physical_devices[0], True)\n",
    "\n",
    "from tensorflow import keras\n",
    "from tensorflow.keras import layers\n",
    "from tensorflow.keras.datasets import mnist\n",
    "\n",
    "(x_train, y_train), (x_test, y_test) = mnist.load_data()\n",
    "x_train = x_train.reshape(-1, 28 * 28).astype(\"float32\") / 255.0\n",
    "x_test = x_test.reshape(-1, 28 * 28).astype(\"float32\") / 255.0"
   ]
  },
  {
   "cell_type": "code",
   "execution_count": 2,
   "metadata": {},
   "outputs": [],
   "source": [
    "class Dense(layers.Layer):\n",
    "  def __init__(self, units):\n",
    "    super(Dense, self).__init__()\n",
    "    self.units = units\n",
    "\n",
    "  def build(self, input_shape):\n",
    "    self.w = self.add_weight(\n",
    "        name=\"w\",\n",
    "        shape=(input_shape[-1], self.units),\n",
    "        initializer=tf.keras.initializers.HeNormal(),\n",
    "        trainable=True\n",
    "      )\n",
    "\n",
    "    self.b = self.add_weight(\n",
    "      name=\"b\",\n",
    "      shape=(self.units, ),\n",
    "      initializer=\"zeros\",\n",
    "      trainable=True\n",
    "    )\n",
    "\n",
    "\n",
    "  def call(self, input_tensor):\n",
    "    return tf.matmul(input_tensor, self.w) + self.b\n",
    "\n",
    "\n",
    "class Relu(layers.Layer):\n",
    "  def __init__(self):\n",
    "      super(Relu, self).__init__()\n",
    "\n",
    "  def call(self, input_tensor):\n",
    "    return tf.math.maximum(input_tensor,0)\n",
    "      "
   ]
  },
  {
   "cell_type": "code",
   "execution_count": 14,
   "metadata": {},
   "outputs": [],
   "source": [
    "class MyModel(keras.Model):  # model.fit, model.evalute, model.predict\n",
    "  def __init__(self, num_classes=10):\n",
    "      super(MyModel, self).__init__()\n",
    "      self.dense1 = Dense(64)\n",
    "      self.dense2 = Dense(num_classes)\n",
    "      self.relu = Relu()\n",
    "  def call(self, x):\n",
    "      x = self.dense1(x)\n",
    "      x = self.relu(x)\n",
    "      return self.dense2(x)\n",
    "\n",
    "  def model(self):\n",
    "      input  = keras.Input(shape=(28*28*1,))\n",
    "      return keras.Model(inputs=[input], outputs=[self.call(input)])"
   ]
  },
  {
   "cell_type": "code",
   "execution_count": 15,
   "metadata": {},
   "outputs": [],
   "source": [
    "model = MyModel()"
   ]
  },
  {
   "cell_type": "code",
   "execution_count": 16,
   "metadata": {},
   "outputs": [
    {
     "name": "stdout",
     "output_type": "stream",
     "text": [
      "Epoch 1/3\n",
      "1875/1875 [==============================] - 3s 1ms/step - loss: 0.4908 - accuracy: 0.8575\n",
      "Epoch 2/3\n",
      "1875/1875 [==============================] - 3s 1ms/step - loss: 0.1477 - accuracy: 0.9580\n",
      "Epoch 3/3\n",
      "1875/1875 [==============================] - 3s 1ms/step - loss: 0.1088 - accuracy: 0.9679\n",
      "313/313 [==============================] - 1s 2ms/step - loss: 0.1044 - accuracy: 0.9692\n"
     ]
    },
    {
     "data": {
      "text/plain": [
       "[0.1043839231133461, 0.9692000150680542]"
      ]
     },
     "execution_count": 16,
     "metadata": {},
     "output_type": "execute_result"
    }
   ],
   "source": [
    "model.compile(\n",
    "    loss=keras.losses.SparseCategoricalCrossentropy(from_logits=True),\n",
    "    optimizer=keras.optimizers.Adam(),\n",
    "    metrics=[\"accuracy\"]\n",
    ")\n",
    "\n",
    "model.fit(x_train, y_train, batch_size=32, epochs=3)\n",
    "model.evaluate(x_test, y_test, batch_size=32)"
   ]
  }
 ],
 "metadata": {
  "interpreter": {
   "hash": "5a331ad46a0a977de3a0b3e08e8b8983b9a6550b7743a2451ee137a24713d2dd"
  },
  "kernelspec": {
   "display_name": "Python 3.9.7 64-bit ('tf-gpu': conda)",
   "name": "python3"
  },
  "language_info": {
   "codemirror_mode": {
    "name": "ipython",
    "version": 3
   },
   "file_extension": ".py",
   "mimetype": "text/x-python",
   "name": "python",
   "nbconvert_exporter": "python",
   "pygments_lexer": "ipython3",
   "version": "3.9.7"
  },
  "orig_nbformat": 4
 },
 "nbformat": 4,
 "nbformat_minor": 2
}
