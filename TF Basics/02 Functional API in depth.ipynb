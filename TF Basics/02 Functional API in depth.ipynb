{
 "cells": [
  {
   "cell_type": "code",
   "execution_count": 27,
   "metadata": {},
   "outputs": [],
   "source": [
    "import os\n",
    "os.environ[\"TF_CPP_MIN_LOG_LEVEL\"] = \"2\""
   ]
  },
  {
   "cell_type": "code",
   "execution_count": 28,
   "metadata": {},
   "outputs": [],
   "source": [
    "import tensorflow as tf\n",
    "physical_devices = tf.config.list_physical_devices(\"GPU\")\n",
    "tf.config.experimental.set_memory_growth(physical_devices[0], True)\n",
    "\n",
    "from tensorflow import keras\n",
    "from tensorflow.keras import layers, regularizers\n",
    "from tensorflow.keras.datasets import mnist\n",
    "import pandas as pd"
   ]
  },
  {
   "cell_type": "code",
   "execution_count": 29,
   "metadata": {},
   "outputs": [],
   "source": [
    "# HYPERPARAMETERS\n",
    "BATCH_SIZE = 64\n",
    "WEIGHT_DECAY = 0.001\n",
    "LEARNING_RATE = 0.001"
   ]
  },
  {
   "cell_type": "code",
   "execution_count": 30,
   "metadata": {},
   "outputs": [],
   "source": [
    "# Download the multi-mnist dataset from Kaggle and save it in /dataset/multi_mnist directory in the folder containing this notebook.\n",
    "# Then run this cell.\n",
    "\n",
    "train_df = pd.read_csv(os.getcwd()+\"/dataset/multi_mnist/train.csv\")\n",
    "test_df = pd.read_csv(os.getcwd()+\"/dataset/multi_mnist/test.csv\")\n",
    "train_images = os.getcwd() + \"/dataset/multi_mnist/train_images/\" + train_df.iloc[:, 0].values\n",
    "test_images = os.getcwd() + \"/dataset/multi_mnist/test_images/\" + test_df.iloc[:, 0].values\n",
    "\n",
    "train_labels = train_df.iloc[:, 1:].values\n",
    "test_labels = test_df.iloc[:, 1:].values"
   ]
  },
  {
   "cell_type": "code",
   "execution_count": 31,
   "metadata": {},
   "outputs": [],
   "source": [
    "def read_image(image_path, label):\n",
    "    image = tf.io.read_file(image_path)\n",
    "    image = tf.image.decode_image(image, channels=1, dtype=tf.float32)\n",
    "\n",
    "    # In older versions you need to set shape in order to avoid error\n",
    "    # on newer (2.3.0+) the following 3 lines can safely be removed\n",
    "    # image.set_shape((64, 64, 1))\n",
    "    # label[0].set_shape([])\n",
    "    # label[1].set_shape([])\n",
    "\n",
    "    labels = {\"first_num\": label[0], \"second_num\": label[1]}\n",
    "    return image, labels"
   ]
  },
  {
   "cell_type": "code",
   "execution_count": 33,
   "metadata": {},
   "outputs": [],
   "source": [
    "AUTOTUNE = tf.data.experimental.AUTOTUNE\n",
    "train_dataset = tf.data.Dataset.from_tensor_slices((train_images, train_labels))\n",
    "train_dataset = (\n",
    "    train_dataset.shuffle(buffer_size=len(train_labels))\n",
    "    .map(read_image)\n",
    "    .batch(batch_size=BATCH_SIZE)\n",
    "    .prefetch(buffer_size=AUTOTUNE)\n",
    ")\n",
    "\n",
    "test_dataset = tf.data.Dataset.from_tensor_slices((test_images, test_labels))\n",
    "test_dataset = (\n",
    "    test_dataset.map(read_image)\n",
    "    .batch(batch_size=BATCH_SIZE)\n",
    "    .prefetch(buffer_size=AUTOTUNE)\n",
    ")"
   ]
  },
  {
   "cell_type": "code",
   "execution_count": 34,
   "metadata": {},
   "outputs": [],
   "source": [
    "inputs = keras.Input(shape=(64, 64, 1))\n",
    "x = layers.Conv2D(\n",
    "    filters=32,\n",
    "    kernel_size=(3,3),\n",
    "    padding=\"same\",\n",
    "    kernel_regularizer=regularizers.l2(WEIGHT_DECAY),\n",
    ")(inputs)\n",
    "x = layers.BatchNormalization()(x)\n",
    "x = layers.Activation(\"relu\")(x)\n",
    "x = layers.Conv2D(64, 3, kernel_regularizer=regularizers.l2(WEIGHT_DECAY),)(x)\n",
    "x = layers.BatchNormalization()(x)\n",
    "x = layers.Activation(\"relu\")(x)\n",
    "x = layers.MaxPooling2D()(x)\n",
    "x = layers.Conv2D(\n",
    "    64, 3, activation=\"relu\", kernel_regularizer=regularizers.l2(WEIGHT_DECAY),\n",
    ")(x)\n",
    "x = layers.Conv2D(128, 3, activation=\"relu\")(x)\n",
    "x = layers.MaxPooling2D()(x)\n",
    "x = layers.Flatten()(x)\n",
    "x = layers.Dense(128, activation=\"relu\")(x)\n",
    "x = layers.Dropout(0.5)(x)\n",
    "x = layers.Dense(64, activation=\"relu\")(x)\n",
    "output1 = layers.Dense(10, activation=\"softmax\", name=\"first_num\")(x)\n",
    "output2 = layers.Dense(10, activation=\"softmax\", name=\"second_num\")(x)\n",
    "model = keras.Model(inputs=inputs, outputs=[output1, output2])\n",
    "\n",
    "model.compile(\n",
    "    optimizer=keras.optimizers.Adam(LEARNING_RATE),\n",
    "    loss=[\n",
    "      keras.losses.SparseCategoricalCrossentropy(from_logits=False),\n",
    "      keras.losses.SparseCategoricalCrossentropy(from_logits=False)\n",
    "    ],\n",
    "    metrics=[\"accuracy\"],\n",
    ")"
   ]
  },
  {
   "cell_type": "code",
   "execution_count": 35,
   "metadata": {},
   "outputs": [
    {
     "name": "stdout",
     "output_type": "stream",
     "text": [
      "Epoch 1/5\n",
      "1000/1000 - 270s - loss: 2.0895 - first_num_loss: 1.0180 - second_num_loss: 0.9972 - first_num_accuracy: 0.6334 - second_num_accuracy: 0.6412\n",
      "Epoch 2/5\n",
      "1000/1000 - 65s - loss: 0.6353 - first_num_loss: 0.2923 - second_num_loss: 0.2855 - first_num_accuracy: 0.9014 - second_num_accuracy: 0.9034\n",
      "Epoch 3/5\n",
      "1000/1000 - 65s - loss: 0.4189 - first_num_loss: 0.1853 - second_num_loss: 0.1819 - first_num_accuracy: 0.9390 - second_num_accuracy: 0.9384\n",
      "Epoch 4/5\n",
      "1000/1000 - 67s - loss: 0.3280 - first_num_loss: 0.1422 - second_num_loss: 0.1368 - first_num_accuracy: 0.9541 - second_num_accuracy: 0.9535\n",
      "Epoch 5/5\n",
      "1000/1000 - 66s - loss: 0.2780 - first_num_loss: 0.1186 - second_num_loss: 0.1126 - first_num_accuracy: 0.9621 - second_num_accuracy: 0.9622\n",
      "313/313 - 19s - loss: 1.3573 - first_num_loss: 0.3791 - second_num_loss: 0.9316 - first_num_accuracy: 0.8978 - second_num_accuracy: 0.7585\n"
     ]
    },
    {
     "data": {
      "text/plain": [
       "[1.3572583198547363,\n",
       " 0.3790723979473114,\n",
       " 0.9315716624259949,\n",
       " 0.897849977016449,\n",
       " 0.7584999799728394]"
      ]
     },
     "execution_count": 35,
     "metadata": {},
     "output_type": "execute_result"
    }
   ],
   "source": [
    "model.fit(train_dataset, epochs=5, verbose=2)\n",
    "model.evaluate(test_dataset, verbose=2)"
   ]
  }
 ],
 "metadata": {
  "interpreter": {
   "hash": "5a331ad46a0a977de3a0b3e08e8b8983b9a6550b7743a2451ee137a24713d2dd"
  },
  "kernelspec": {
   "display_name": "Python 3.9.7 64-bit ('tf-gpu': conda)",
   "name": "python3"
  },
  "language_info": {
   "codemirror_mode": {
    "name": "ipython",
    "version": 3
   },
   "file_extension": ".py",
   "mimetype": "text/x-python",
   "name": "python",
   "nbconvert_exporter": "python",
   "pygments_lexer": "ipython3",
   "version": "3.9.7"
  },
  "orig_nbformat": 4
 },
 "nbformat": 4,
 "nbformat_minor": 2
}
