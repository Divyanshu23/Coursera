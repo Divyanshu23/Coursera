{
 "cells": [
  {
   "cell_type": "code",
   "execution_count": 28,
   "metadata": {},
   "outputs": [],
   "source": [
    "import os\n",
    "os.environ[\"TF_CPP_MIN_LOG_LEVEL\"] = \"2\"\n",
    "\n",
    "import tensorflow as tf\n",
    "physical_devices = tf.config.list_physical_devices(\"GPU\")\n",
    "tf.config.experimental.set_memory_growth(physical_devices[0], True)\n",
    "\n",
    "from tensorflow import keras\n",
    "from tensorflow.keras import layers, regularizers\n",
    "from tensorflow.keras.datasets import mnist\n",
    "\n",
    "(x_train, y_train), (x_test, y_test) = mnist.load_data()\n",
    "x_train = x_train.reshape(-1, 28, 28, 1).astype(\"float32\") / 255.0\n",
    "x_test = x_test.reshape(-1, 28, 28, 1).astype(\"float32\") / 255.0"
   ]
  },
  {
   "cell_type": "code",
   "execution_count": 29,
   "metadata": {},
   "outputs": [],
   "source": [
    "# Subclassing\n",
    "# CNN -> BatchNorm -> ReLU (common structure)\n",
    "# x10 (a lot of code to write!)\n",
    "\n",
    "class CNNBlock(layers.Layer):\n",
    "  def __init__(self, out_channels, kernel_size=3):\n",
    "    super(CNNBlock, self).__init__()\n",
    "    self.conv = layers.Conv2D(out_channels, kernel_size, padding=\"same\")\n",
    "    self.bn = layers.BatchNormalization()\n",
    "\n",
    "  def call(self, input_tensor, training=False):\n",
    "    x = self.conv(input_tensor)\n",
    "    x = self.bn(x, training=training)\n",
    "    x = layers.Activation(\"relu\")(x)\n",
    "    return x"
   ]
  },
  {
   "cell_type": "code",
   "execution_count": 30,
   "metadata": {},
   "outputs": [],
   "source": [
    "class ResBlock(layers.Layer):\n",
    "  def __init__(self, channels):\n",
    "    super(ResBlock, self).__init__()\n",
    "    self.cnn1 = CNNBlock(channels[0],3)\n",
    "    self.cnn2 = CNNBlock(channels[1], 3)\n",
    "    self.cnn3 = CNNBlock(channels[2], 3)\n",
    "    self.identity_mapping = layers.Conv2D(channels[1], 1, padding=\"same\")\n",
    "    self.pooling = layers.MaxPool2D()\n",
    "\n",
    "  def call(self,input_tensor, training=False):\n",
    "    x = self.cnn1(input_tensor, training=training)\n",
    "    x = self.cnn2(x, training=training)\n",
    "    x = self.cnn3(x + self.identity_mapping(input_tensor), training=training)\n",
    "    x = self.pooling(x)\n",
    "    return x"
   ]
  },
  {
   "cell_type": "code",
   "execution_count": 31,
   "metadata": {},
   "outputs": [],
   "source": [
    "class ResNetLike(keras.Model):\n",
    "  def __init__(self,num_classes=10):\n",
    "    super(ResNetLike, self).__init__()\n",
    "    self.block1 = ResBlock([32, 32, 64])\n",
    "    self.block2 = ResBlock([128, 128, 256])\n",
    "    self.block3 = ResBlock([128, 256, 512])\n",
    "    self.pool = layers.GlobalAveragePooling2D()\n",
    "    self.classifier = layers.Dense(num_classes)\n",
    "\n",
    "  def call(self, input_tensor, training=False):\n",
    "    x = self.block1(input_tensor, training=training)\n",
    "    x = self.block2(x, training=training)\n",
    "    x = self.block3(x, training=training)\n",
    "    x = self.pool(x, training=training)\n",
    "    x = self.classifier(x)\n",
    "    return x\n",
    "\n",
    "  def model(self):\n",
    "    x = keras.Input(shape=(28, 28, 1))\n",
    "    return keras.Model(inputs=[x], outputs=self.call(x))"
   ]
  },
  {
   "cell_type": "code",
   "execution_count": 32,
   "metadata": {},
   "outputs": [
    {
     "name": "stdout",
     "output_type": "stream",
     "text": [
      "938/938 [==============================] - 44s 46ms/step - loss: 0.1895 - accuracy: 0.9449\n",
      "157/157 [==============================] - 3s 16ms/step - loss: 0.1152 - accuracy: 0.9670\n"
     ]
    },
    {
     "data": {
      "text/plain": [
       "[0.11522364616394043, 0.9670000076293945]"
      ]
     },
     "execution_count": 32,
     "metadata": {},
     "output_type": "execute_result"
    }
   ],
   "source": [
    "model = ResNetLike(10)\n",
    "model.compile(\n",
    "    optimizer=keras.optimizers.Adam(),\n",
    "    loss=keras.losses.SparseCategoricalCrossentropy(from_logits=True),\n",
    "    metrics=[\"accuracy\"],\n",
    ")\n",
    "\n",
    "model.fit(x_train, y_train, batch_size=64, epochs=1, verbose=True)\n",
    "# print(model.summary())\n",
    "model.evaluate(x_test, y_test, batch_size=64, verbose=True)"
   ]
  },
  {
   "cell_type": "code",
   "execution_count": 34,
   "metadata": {},
   "outputs": [
    {
     "name": "stdout",
     "output_type": "stream",
     "text": [
      "Model: \"model\"\n",
      "_________________________________________________________________\n",
      "Layer (type)                 Output Shape              Param #   \n",
      "=================================================================\n",
      "input_7 (InputLayer)         [(None, 28, 28, 1)]       0         \n",
      "_________________________________________________________________\n",
      "res_block_6 (ResBlock)       (None, 14, 14, 64)        28640     \n",
      "_________________________________________________________________\n",
      "res_block_7 (ResBlock)       (None, 7, 7, 256)         526976    \n",
      "_________________________________________________________________\n",
      "res_block_8 (ResBlock)       (None, 3, 3, 512)         1839744   \n",
      "_________________________________________________________________\n",
      "global_average_pooling2d_2 ( (None, 512)               0         \n",
      "_________________________________________________________________\n",
      "dense_6 (Dense)              (None, 10)                5130      \n",
      "=================================================================\n",
      "Total params: 2,400,490\n",
      "Trainable params: 2,397,418\n",
      "Non-trainable params: 3,072\n",
      "_________________________________________________________________\n"
     ]
    }
   ],
   "source": [
    "model.model().summary()"
   ]
  }
 ],
 "metadata": {
  "interpreter": {
   "hash": "5a331ad46a0a977de3a0b3e08e8b8983b9a6550b7743a2451ee137a24713d2dd"
  },
  "kernelspec": {
   "display_name": "Python 3.9.7 64-bit ('tf-gpu': conda)",
   "name": "python3"
  },
  "language_info": {
   "codemirror_mode": {
    "name": "ipython",
    "version": 3
   },
   "file_extension": ".py",
   "mimetype": "text/x-python",
   "name": "python",
   "nbconvert_exporter": "python",
   "pygments_lexer": "ipython3",
   "version": "3.9.7"
  },
  "orig_nbformat": 4
 },
 "nbformat": 4,
 "nbformat_minor": 2
}
